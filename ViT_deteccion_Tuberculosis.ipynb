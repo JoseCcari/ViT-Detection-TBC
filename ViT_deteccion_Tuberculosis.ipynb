{
  "nbformat": 4,
  "nbformat_minor": 0,
  "metadata": {
    "colab": {
      "provenance": [],
      "gpuType": "T4"
    },
    "kernelspec": {
      "name": "python3",
      "display_name": "Python 3"
    },
    "language_info": {
      "name": "python"
    },
    "accelerator": "GPU"
  },
  "cells": [
    {
      "cell_type": "code",
      "execution_count": 3,
      "metadata": {
        "colab": {
          "base_uri": "https://localhost:8080/"
        },
        "id": "BkLo6MJlfB2x",
        "outputId": "aaaa9c67-d9f0-4f8d-fee1-fd61a73d311b"
      },
      "outputs": [
        {
          "output_type": "stream",
          "name": "stderr",
          "text": [
            "Some weights of ViTForImageClassification were not initialized from the model checkpoint at google/vit-base-patch16-224 and are newly initialized because the shapes did not match:\n",
            "- classifier.bias: found shape torch.Size([1000]) in the checkpoint and torch.Size([2]) in the model instantiated\n",
            "- classifier.weight: found shape torch.Size([1000, 768]) in the checkpoint and torch.Size([2, 768]) in the model instantiated\n",
            "You should probably TRAIN this model on a down-stream task to be able to use it for predictions and inference.\n"
          ]
        },
        {
          "output_type": "stream",
          "name": "stdout",
          "text": [
            "Epoch 1/10 | Loss: 0.0930 | Val Acc: 0.9956 | Val AUC: 0.9994\n",
            "Epoch 2/10 | Loss: 0.0065 | Val Acc: 0.9978 | Val AUC: 0.9999\n",
            "Epoch 3/10 | Loss: 0.0002 | Val Acc: 0.9967 | Val AUC: 0.9999\n",
            "Epoch 4/10 | Loss: 0.0001 | Val Acc: 0.9978 | Val AUC: 0.9999\n",
            "Epoch 5/10 | Loss: 0.0001 | Val Acc: 0.9978 | Val AUC: 0.9999\n",
            "Epoch 6/10 | Loss: 0.0000 | Val Acc: 0.9978 | Val AUC: 0.9999\n",
            "Epoch 7/10 | Loss: 0.0000 | Val Acc: 0.9978 | Val AUC: 0.9999\n",
            "Epoch 8/10 | Loss: 0.0000 | Val Acc: 0.9978 | Val AUC: 0.9999\n",
            "Epoch 9/10 | Loss: 0.0000 | Val Acc: 0.9978 | Val AUC: 0.9999\n",
            "Epoch 10/10 | Loss: 0.0000 | Val Acc: 0.9978 | Val AUC: 0.9999\n",
            "\n",
            "Test Accuracy: 0.9855\n",
            "Test AUC: 0.9999\n",
            "Test Confusion Matrix:\n",
            " [[605   1]\n",
            " [ 16 549]]\n"
          ]
        }
      ],
      "source": [
        "!pip install transformers timm --quiet\n",
        "\n",
        "import torch\n",
        "import torch.nn as nn\n",
        "from torch.utils.data import DataLoader\n",
        "from torchvision import datasets, transforms\n",
        "from transformers import ViTForImageClassification, ViTFeatureExtractor\n",
        "from sklearn.metrics import accuracy_score, roc_auc_score, confusion_matrix\n",
        "import numpy as np\n",
        "import os\n",
        "\n",
        "data_dir = '/content/drive/MyDrive/Proyectos/radio'\n",
        "train_path = os.path.join(data_dir, 'train')\n",
        "val_path = os.path.join(data_dir, 'val')\n",
        "test_path = os.path.join(data_dir, 'test')\n",
        "\n",
        "BATCH_SIZE = 16\n",
        "EPOCHS = 10\n",
        "LR = 2e-5\n",
        "DEVICE = torch.device('cuda' if torch.cuda.is_available() else 'cpu')\n",
        "N_CLASSES = 2 # tuber / normal\n",
        "\n",
        "# ==== Preprocesamiento ViT ====\n",
        "feature_extractor = ViTFeatureExtractor.from_pretrained('google/vit-base-patch16-224')\n",
        "transform = transforms.Compose([\n",
        "    transforms.Resize((224,224)),\n",
        "    transforms.ToTensor(),\n",
        "    transforms.Normalize(mean=feature_extractor.image_mean, std=feature_extractor.image_std)\n",
        "])\n",
        "\n",
        "# ==== DataLoaders ====\n",
        "train_ds = datasets.ImageFolder(train_path, transform=transform)\n",
        "val_ds = datasets.ImageFolder(val_path, transform=transform)\n",
        "test_ds = datasets.ImageFolder(test_path, transform=transform)\n",
        "\n",
        "train_loader = DataLoader(train_ds, batch_size=BATCH_SIZE, shuffle=True)\n",
        "val_loader = DataLoader(val_ds, batch_size=BATCH_SIZE, shuffle=False)\n",
        "test_loader = DataLoader(test_ds, batch_size=BATCH_SIZE, shuffle=False)\n",
        "\n",
        "# ==== Modelo Vision Transformer ====\n",
        "model = ViTForImageClassification.from_pretrained(\n",
        "    'google/vit-base-patch16-224',\n",
        "    num_labels=N_CLASSES,\n",
        "    ignore_mismatched_sizes=True\n",
        ").to(DEVICE)\n",
        "\n",
        "optimizer = torch.optim.AdamW(model.parameters(), lr=LR)\n",
        "criterion = nn.CrossEntropyLoss()\n",
        "\n",
        "# ==== Entrenamiento ====\n",
        "def train_epoch(loader):\n",
        "    model.train()\n",
        "    running_loss = 0.0\n",
        "    for imgs, labels in loader:\n",
        "        imgs, labels = imgs.to(DEVICE), labels.to(DEVICE)\n",
        "        outputs = model(imgs).logits\n",
        "        loss = criterion(outputs, labels)\n",
        "        optimizer.zero_grad()\n",
        "        loss.backward()\n",
        "        optimizer.step()\n",
        "        running_loss += loss.item() * imgs.size(0)\n",
        "    return running_loss / len(loader.dataset)\n",
        "\n",
        "def evaluate(loader):\n",
        "    model.eval()\n",
        "    all_labels, all_preds, all_probs = [], [], []\n",
        "    with torch.no_grad():\n",
        "        for imgs, labels in loader:\n",
        "            imgs, labels = imgs.to(DEVICE), labels.to(DEVICE)\n",
        "            outputs = model(imgs).logits\n",
        "            probs = torch.softmax(outputs, dim=1)[:, 1].cpu().numpy()\n",
        "            preds = outputs.argmax(dim=1).cpu().numpy()\n",
        "            all_labels.extend(labels.cpu().numpy())\n",
        "            all_preds.extend(preds)\n",
        "            all_probs.extend(probs)\n",
        "    acc = accuracy_score(all_labels, all_preds)\n",
        "    auc = roc_auc_score(all_labels, all_probs)\n",
        "    cm = confusion_matrix(all_labels, all_preds)\n",
        "    return acc, auc, cm\n",
        "\n",
        "for epoch in range(EPOCHS):\n",
        "    loss = train_epoch(train_loader)\n",
        "    val_acc, val_auc, val_cm = evaluate(val_loader)\n",
        "    print(f\"Epoch {epoch+1}/{EPOCHS} | Loss: {loss:.4f} | Val Acc: {val_acc:.4f} | Val AUC: {val_auc:.4f}\")\n",
        "\n",
        "# ==== Evaluación en test ====\n",
        "test_acc, test_auc, test_cm = evaluate(test_loader)\n",
        "print(f\"\\nTest Accuracy: {test_acc:.4f}\")\n",
        "print(f\"Test AUC: {test_auc:.4f}\")\n",
        "print(\"Test Confusion Matrix:\\n\", test_cm)\n"
      ]
    },
    {
      "cell_type": "code",
      "source": [
        "import numpy as np\n",
        "import seaborn as sns\n",
        "import matplotlib.pyplot as plt\n",
        "from sklearn.metrics import classification_report, confusion_matrix\n",
        "\n",
        "# 1. Obtenemos las predicciones del modelo ViT sobre el test set (probabilidades y clases)\n",
        "vit_probs = []\n",
        "vit_preds = []\n",
        "vit_labels = []\n",
        "\n",
        "model.eval()\n",
        "with torch.no_grad():\n",
        "    for imgs, labels in test_loader:\n",
        "        imgs = imgs.to(DEVICE)\n",
        "        outputs = model(imgs).logits\n",
        "        probs = torch.softmax(outputs, dim=1)[:, 1].cpu().numpy()  # Probabilidad de \"Tuberculosis\"\n",
        "        preds = outputs.argmax(dim=1).cpu().numpy()\n",
        "        vit_probs.extend(probs)\n",
        "        vit_preds.extend(preds)\n",
        "        vit_labels.extend(labels.cpu().numpy())\n",
        "\n",
        "vit_probs = np.array(vit_probs)\n",
        "vit_preds = np.array(vit_preds)\n",
        "vit_labels = np.array(vit_labels)\n",
        "\n",
        "# 2. Matriz de confusión y heatmap (como en tu ejemplo CNN)\n",
        "cm = confusion_matrix(vit_labels, vit_preds)\n",
        "labels_names = ['Normal', 'Tuberculosis']\n",
        "plt.figure(figsize=(6,5))\n",
        "sns.heatmap(cm, annot=True, fmt=\"d\", cmap='Blues',\n",
        "            xticklabels=labels_names, yticklabels=labels_names)\n",
        "plt.xlabel(\"Predicted Label\")\n",
        "plt.ylabel(\"True Label\")\n",
        "plt.title(\"Matriz de Confusión ViT\")\n",
        "plt.show()\n",
        "\n",
        "# 3. Reporte de clasificación\n",
        "print(classification_report(vit_labels, vit_preds, target_names=labels_names))\n",
        "\n",
        "plt.figure(figsize=(6,5))\n",
        "sns.heatmap(cm, annot=True, fmt=\"d\", cmap='Blues',\n",
        "            xticklabels=labels_names, yticklabels=labels_names)\n",
        "plt.xlabel(\"Predicted Label\")\n",
        "plt.ylabel(\"True Label\")\n",
        "plt.title(\"Matriz de Confusión ViT\")\n",
        "plt.savefig('/content/drive/MyDrive/Proyectos/radio/confusion_matrix_vit.png', dpi=300)\n",
        "plt.close()\n"
      ],
      "metadata": {
        "colab": {
          "base_uri": "https://localhost:8080/",
          "height": 653
        },
        "id": "ZE7ZtGlWfyh_",
        "outputId": "c42f00f4-fec5-492c-bf69-7b8269425cc0"
      },
      "execution_count": 5,
      "outputs": [
        {
          "output_type": "display_data",
          "data": {
            "text/plain": [
              "<Figure size 600x500 with 2 Axes>"
            ],
            "image/png": "[encoded data removed]"
          },
          "metadata": {}
        },
        {
          "output_type": "stream",
          "name": "stdout",
          "text": [
            "              precision    recall  f1-score   support\n",
            "\n",
            "      Normal       0.97      1.00      0.99       606\n",
            "Tuberculosis       1.00      0.97      0.98       565\n",
            "\n",
            "    accuracy                           0.99      1171\n",
            "   macro avg       0.99      0.99      0.99      1171\n",
            "weighted avg       0.99      0.99      0.99      1171\n",
            "\n"
          ]
        }
      ]
    }
  ]
}